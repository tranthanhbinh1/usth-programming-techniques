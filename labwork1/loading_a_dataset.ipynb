{
 "cells": [
  {
   "cell_type": "code",
   "execution_count": 1,
   "id": "9f32cce0",
   "metadata": {},
   "outputs": [],
   "source": [
    "import numpy as np"
   ]
  },
  {
   "cell_type": "markdown",
   "id": "f8d669a2",
   "metadata": {},
   "source": [
    "### Question 1:\n",
    "Place this file in your working directory. Load the file into the editor and observe the structure of the information."
   ]
  },
  {
   "cell_type": "code",
   "execution_count": 2,
   "id": "9eda0cf2",
   "metadata": {},
   "outputs": [
    {
     "name": "stdout",
     "output_type": "stream",
     "text": [
      "['sex,weight,height\\n', 'h,60,170\\n', 'f,87,169\\n', 'f,31,172\\n', 'f,55,174\\n', 'f,50,168\\n', 'f,66,159\\n', 'f,48,162\\n', 'h,72,189\\n', 'f,52,160\\n', 'h,64,175\\n', 'f,53,165\\n', 'h,72,164\\n', 'h,61,175\\n', 'h,78,184\\n', 'h,68,178\\n', 'f,51,158\\n', 'f,53,164\\n', 'h,79,179\\n', 'h,74,182\\n', 'h,62,174\\n', 'f,49,158\\n', 'f,50,163\\n', 'h,74,172\\n', 'h,80,185\\n', 'f,53,170\\n', 'h,73,178\\n', 'h,70,180\\n', 'h,72,189\\n', 'f,70,172\\n', 'f,62,174\\n', 'h,77,200\\n', 'h,70,178\\n', 'h,76,178\\n', 'f,51,168\\n', 'f,52,170\\n', 'f,57,160\\n', 'f,53,163\\n', 'f,55,168\\n', 'f,66,172\\n', 'h,65,175\\n', 'h,75,180\\n', 'f,50,162\\n', 'f,53,177\\n', 'h,55,169\\n', 'h,55,173\\n', 'h,72,182\\n', 'h,75,183\\n', 'h,73,184\\n', 'h,71,181\\n', 'h,66,180\\n', 'h,71,178\\n', 'h,79,178\\n', 'h,62,168\\n', 'f,47,161\\n', 'h,73,171\\n', 'h,72,180\\n', 'h,60,174\\n', 'h,67,175\\n', 'h,85,182\\n', 'h,73,181\\n', 'h,82,188\\n', 'h,86,182\\n', 'h,85,189\\n', 'h,65,178\\n', 'f,47,150\\n', 'h,74,186\\n']\n"
     ]
    }
   ],
   "source": [
    "with open(\"/Users/binhtran/projects/usth-programming-techniques/labwork1/population.csv\", \"r\") as f:\n",
    "    data = f.readlines()\n",
    "\n",
    "print(data)\n"
   ]
  },
  {
   "cell_type": "markdown",
   "id": "9248e85a",
   "metadata": {},
   "source": [
    "### Question 2:\n",
    "Create a population table from the data stored in the file \"population.csv\".\n",
    "Display in the console the content of the population object"
   ]
  },
  {
   "cell_type": "code",
   "execution_count": 3,
   "id": "5d764de5",
   "metadata": {},
   "outputs": [
    {
     "name": "stdout",
     "output_type": "stream",
     "text": [
      "[('h', 60, 170) ('f', 87, 169) ('f', 31, 172) ('f', 55, 174)\n",
      " ('f', 50, 168) ('f', 66, 159) ('f', 48, 162) ('h', 72, 189)\n",
      " ('f', 52, 160) ('h', 64, 175) ('f', 53, 165) ('h', 72, 164)\n",
      " ('h', 61, 175) ('h', 78, 184) ('h', 68, 178) ('f', 51, 158)\n",
      " ('f', 53, 164) ('h', 79, 179) ('h', 74, 182) ('h', 62, 174)\n",
      " ('f', 49, 158) ('f', 50, 163) ('h', 74, 172) ('h', 80, 185)\n",
      " ('f', 53, 170) ('h', 73, 178) ('h', 70, 180) ('h', 72, 189)\n",
      " ('f', 70, 172) ('f', 62, 174) ('h', 77, 200) ('h', 70, 178)\n",
      " ('h', 76, 178) ('f', 51, 168) ('f', 52, 170) ('f', 57, 160)\n",
      " ('f', 53, 163) ('f', 55, 168) ('f', 66, 172) ('h', 65, 175)\n",
      " ('h', 75, 180) ('f', 50, 162) ('f', 53, 177) ('h', 55, 169)\n",
      " ('h', 55, 173) ('h', 72, 182) ('h', 75, 183) ('h', 73, 184)\n",
      " ('h', 71, 181) ('h', 66, 180) ('h', 71, 178) ('h', 79, 178)\n",
      " ('h', 62, 168) ('f', 47, 161) ('h', 73, 171) ('h', 72, 180)\n",
      " ('h', 60, 174) ('h', 67, 175) ('h', 85, 182) ('h', 73, 181)\n",
      " ('h', 82, 188) ('h', 86, 182) ('h', 85, 189) ('h', 65, 178)\n",
      " ('f', 47, 150) ('h', 74, 186)]\n"
     ]
    }
   ],
   "source": [
    "# Question 2: Create a population table from the data stored in the file \"population.csv\".\n",
    "# Display in the console the content of the population object.\n",
    "\n",
    "population = np.genfromtxt(\n",
    "    open(\n",
    "        \"/Users/binhtran/projects/usth-programming-techniques/labwork1/population.csv\",\n",
    "        \"rb\",\n",
    "    ),\n",
    "    delimiter=\",\",\n",
    "    names=True,\n",
    "    dtype=None,\n",
    ")\n",
    "print(population)"
   ]
  },
  {
   "cell_type": "markdown",
   "id": "8eb693f7",
   "metadata": {},
   "source": [
    "### Question 3:\n",
    "Display in the console the content of the objects population[\"sex\"], population[\"weight\"] and population[\"height\"]"
   ]
  },
  {
   "cell_type": "code",
   "execution_count": 4,
   "id": "ef65bc74",
   "metadata": {},
   "outputs": [
    {
     "name": "stdout",
     "output_type": "stream",
     "text": [
      "-----\n",
      "Sex:\n",
      "['h' 'f' 'f' 'f' 'f' 'f' 'f' 'h' 'f' 'h' 'f' 'h' 'h' 'h' 'h' 'f' 'f' 'h'\n",
      " 'h' 'h' 'f' 'f' 'h' 'h' 'f' 'h' 'h' 'h' 'f' 'f' 'h' 'h' 'h' 'f' 'f' 'f'\n",
      " 'f' 'f' 'f' 'h' 'h' 'f' 'f' 'h' 'h' 'h' 'h' 'h' 'h' 'h' 'h' 'h' 'h' 'f'\n",
      " 'h' 'h' 'h' 'h' 'h' 'h' 'h' 'h' 'h' 'h' 'f' 'h']\n",
      "Weight:\n",
      "[60 87 31 55 50 66 48 72 52 64 53 72 61 78 68 51 53 79 74 62 49 50 74 80\n",
      " 53 73 70 72 70 62 77 70 76 51 52 57 53 55 66 65 75 50 53 55 55 72 75 73\n",
      " 71 66 71 79 62 47 73 72 60 67 85 73 82 86 85 65 47 74]\n",
      "Height:\n",
      "[170 169 172 174 168 159 162 189 160 175 165 164 175 184 178 158 164 179\n",
      " 182 174 158 163 172 185 170 178 180 189 172 174 200 178 178 168 170 160\n",
      " 163 168 172 175 180 162 177 169 173 182 183 184 181 180 178 178 168 161\n",
      " 171 180 174 175 182 181 188 182 189 178 150 186]\n"
     ]
    }
   ],
   "source": [
    "print(\"-----\")\n",
    "print(\"Sex:\")\n",
    "print(population[\"sex\"])\n",
    "print(\"Weight:\")\n",
    "print(population[\"weight\"])\n",
    "print(\"Height:\")\n",
    "print(population[\"height\"])"
   ]
  },
  {
   "cell_type": "markdown",
   "id": "c29c120e",
   "metadata": {},
   "source": [
    "### Question 4: \n",
    "Display in the console the content of the objects population[0], population[1]."
   ]
  },
  {
   "cell_type": "code",
   "execution_count": 5,
   "id": "f8927d9a",
   "metadata": {},
   "outputs": [
    {
     "name": "stdout",
     "output_type": "stream",
     "text": [
      "-----\n",
      "First entry:\n",
      "('h', 60, 170)\n",
      "Second entry:\n",
      "('f', 87, 169)\n"
     ]
    }
   ],
   "source": [
    "print(\"-----\")\n",
    "print(\"First entry:\")\n",
    "print(population[0])\n",
    "print(\"Second entry:\")\n",
    "print(population[1])"
   ]
  },
  {
   "cell_type": "markdown",
   "id": "3b3df7f4",
   "metadata": {},
   "source": [
    "### Question 5: \n",
    "Display in the console the content of the objects population[1][\"sex\"], population[1][\"weight\"]."
   ]
  },
  {
   "cell_type": "code",
   "execution_count": 6,
   "id": "1bd2188c",
   "metadata": {},
   "outputs": [
    {
     "name": "stdout",
     "output_type": "stream",
     "text": [
      "-----\n",
      "Second entry sex and weight:\n",
      "f\n",
      "87\n"
     ]
    }
   ],
   "source": [
    "print(\"-----\")\n",
    "print(\"Second entry sex and weight:\")\n",
    "print(population[1][\"sex\"])\n",
    "print(population[1][\"weight\"])"
   ]
  },
  {
   "cell_type": "markdown",
   "id": "27489101",
   "metadata": {},
   "source": [
    "### Conclusion about the accessibility of the data:\n",
    "- The data is organized in a structured format, delimited by commas - comma-separated values (CSV).\n",
    "- Each row represents an individual record, while each column corresponds to a specific attribute (sex, weight, height).\n",
    "- The first row contains headers that describe the attributes, making it easier to understand the data.\n",
    "- The data can be easily loaded into various programming environments (like Python, R, etc.) for analysis and manipulation using libraries designed to handle tabular data (e.g., pandas in Python)."
   ]
  }
 ],
 "metadata": {
  "kernelspec": {
   "display_name": "usth-programming-techniques",
   "language": "python",
   "name": "python3"
  },
  "language_info": {
   "codemirror_mode": {
    "name": "ipython",
    "version": 3
   },
   "file_extension": ".py",
   "mimetype": "text/x-python",
   "name": "python",
   "nbconvert_exporter": "python",
   "pygments_lexer": "ipython3",
   "version": "3.11.10"
  }
 },
 "nbformat": 4,
 "nbformat_minor": 5
}

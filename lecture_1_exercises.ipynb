{
 "cells": [
  {
   "cell_type": "markdown",
   "id": "2648f60d",
   "metadata": {},
   "source": [
    "## Exercise 1: Equation of second degree\n",
    "We want to calculate the two roots, if they exist, of a second degree equation : ax2 + b.x + c = 0.\n",
    "The program acquires the three coefficients A, B, C and provides: either the two roots, or the double root, or the unique\n",
    "root if the equation is negative (i.e. if a=0), or the fact that the equation has no real root.\n",
    "Write a program that computes and displays the solutions of this equation with A, B and C entered by the user."
   ]
  },
  {
   "cell_type": "code",
   "execution_count": 1,
   "id": "1fcc5638",
   "metadata": {},
   "outputs": [],
   "source": [
    "import math"
   ]
  },
  {
   "cell_type": "code",
   "execution_count": 2,
   "id": "a0d57613",
   "metadata": {},
   "outputs": [],
   "source": [
    "# Input\n",
    "a, b, c = map(float, input(\"Enter coefficients a, b and c: \").split(','))"
   ]
  },
  {
   "cell_type": "code",
   "execution_count": null,
   "id": "b8b3f3ef",
   "metadata": {},
   "outputs": [
    {
     "name": "stdout",
     "output_type": "stream",
     "text": [
      "x1: 0.0\n",
      "x2: -0.6\n"
     ]
    }
   ],
   "source": [
    "# Case 1: if a != 0, the function is a quadratic function\n",
    "if a != 0:\n",
    "    delta = b**2 - 4 * a * c\n",
    "    if delta > 0:\n",
    "        # Two real roots\n",
    "        x1 = (-b + math.sqrt(delta)) / (2 * a)\n",
    "        x2 = (-b - math.sqrt(delta)) / (2 * a)\n",
    "        print(\"x1:\", round(x1, 3))\n",
    "        print(\"x2:\", round(x2, 3))\n",
    "    elif delta == 0:\n",
    "        # One double root\n",
    "        x1 = -b / (2 * a)\n",
    "        print(\"x1:\", round(x1, 3))\n",
    "    else:\n",
    "        print(\"No real roots\")\n",
    "\n",
    "# Case 2: if a == 0, the function is linear\n",
    "else:\n",
    "    if b != 0:\n",
    "        x1 = -c / b  # unique root\n",
    "        print(\"x1:\", round(x1, 3))\n",
    "    elif c == 0:\n",
    "        print(\"Infinitely many solutions\")\n",
    "    else:\n",
    "        print(\"No solution\")\n"
   ]
  },
  {
   "cell_type": "markdown",
   "id": "21ca95ff",
   "metadata": {},
   "source": [
    "## Exercise 2: Prime number\n",
    "1. Propose an algorithm that determines if a number n is prime, that is divisible only by 1 and itself.\n",
    "2. Modify this algorithm so that it writes which are the first numbers among the first m integers."
   ]
  },
  {
   "cell_type": "code",
   "execution_count": 8,
   "id": "e006caa5",
   "metadata": {},
   "outputs": [
    {
     "name": "stdout",
     "output_type": "stream",
     "text": [
      "True\n",
      "2\n"
     ]
    }
   ],
   "source": [
    "# Prime number\n",
    "def is_prime(n: int):\n",
    "    if n < 1:\n",
    "        return False\n",
    "    \n",
    "    for i in range(2, int(math.sqrt(n)) + 1):\n",
    "        if n % i == 0:\n",
    "            return False\n",
    "    return True\n",
    "\n",
    "print(is_prime(2))\n",
    "\n",
    "# First prime of m intergers\n",
    "def first_prime(m: int):\n",
    "    for i in range(2, m+1):\n",
    "        if is_prime(i):\n",
    "            return i\n",
    "    \n",
    "print(first_prime(10))"
   ]
  },
  {
   "cell_type": "markdown",
   "id": "29e5c92f",
   "metadata": {},
   "source": [
    "## Exercise 3: Display problems\n",
    "Let N be an integer entered by the user such that N ≥ 0.\n",
    "... read more from the Pdf file"
   ]
  },
  {
   "cell_type": "code",
   "execution_count": null,
   "id": "ee6bfb4b",
   "metadata": {},
   "outputs": [
    {
     "name": "stdout",
     "output_type": "stream",
     "text": [
      "1: *\n",
      "2: **\n",
      "3: ***\n",
      "4: ****\n",
      "\n"
     ]
    }
   ],
   "source": [
    "def display_stars(n: int):\n",
    "    if n < 0:\n",
    "        print(\"N must be greater than 0\")\n",
    "        return False\n",
    "    else:\n",
    "        result = \"\"\n",
    "        for i in range(1, n + 1):\n",
    "            result += (f\"{i}: {'*' * i}\\n\")\n",
    "        return result\n",
    "\n",
    "\n",
    "print(display_stars(4))"
   ]
  },
  {
   "cell_type": "markdown",
   "id": "a420a7b2",
   "metadata": {},
   "source": [
    "## Exercise 4: Recurring Suite"
   ]
  },
  {
   "cell_type": "code",
   "execution_count": 21,
   "id": "390776e0",
   "metadata": {},
   "outputs": [
    {
     "name": "stdout",
     "output_type": "stream",
     "text": [
      "U0 = 1\n",
      "U1 = -2\n",
      "U2 = 5\n",
      "U3 = -14\n",
      "U4 = 17\n",
      "U5 = -50\n",
      "U6 = 53\n",
      "U7 = -158\n",
      "U8 = 161\n",
      "U9 = -482\n",
      "U10 = 485\n",
      "None\n"
     ]
    }
   ],
   "source": [
    "def recurring_suite(n: int):\n",
    "    if n < 0:\n",
    "        print(\"N must be greater than 0\")\n",
    "        return \n",
    "    u = 1\n",
    "    print(f\"U0 = {u}\")\n",
    "    \n",
    "    for i in range(1, n+1):\n",
    "        if u % 2 == 0:\n",
    "            u = -u + 3\n",
    "        else:\n",
    "            u = -3 * u + 1\n",
    "            \n",
    "        print(f\"U{i} = {u}\")\n",
    "\n",
    "print(recurring_suite(10))\n"
   ]
  },
  {
   "cell_type": "markdown",
   "id": "c586614b",
   "metadata": {},
   "source": [
    "## Exercise 5: Dice Thrower"
   ]
  },
  {
   "cell_type": "code",
   "execution_count": null,
   "id": "b8c64156",
   "metadata": {},
   "outputs": [
    {
     "name": "stdout",
     "output_type": "stream",
     "text": [
      "1\n",
      "Re-roll dice: 5\n",
      "Game over\n"
     ]
    }
   ],
   "source": [
    "import random\n",
    "\n",
    "def rollDice(d1: int, d2: int):\n",
    "    if d1 == 6:\n",
    "        return d2\n",
    "    if d2 == 6:\n",
    "        return d1\n",
    "    if d1 == d2 == 6:\n",
    "        return False # Stop the game\n",
    "    \n",
    "print(rollDice(1, 6))\n",
    "\n",
    "def roll_the_game(d1: int, d2: int):\n",
    "    d_to_re_roll = rollDice(d1, d2)\n",
    "    while d_to_re_roll:\n",
    "        print(f\"Re-roll dice: {d_to_re_roll}\")\n",
    "        d_to_re_roll = rollDice(d_to_re_roll, random.randint(1, 6))\n",
    "    print(\"Game over\")\n",
    "    \n",
    "roll_the_game(5, 6)"
   ]
  }
 ],
 "metadata": {
  "kernelspec": {
   "display_name": "usth-programming-techniques",
   "language": "python",
   "name": "python3"
  },
  "language_info": {
   "codemirror_mode": {
    "name": "ipython",
    "version": 3
   },
   "file_extension": ".py",
   "mimetype": "text/x-python",
   "name": "python",
   "nbconvert_exporter": "python",
   "pygments_lexer": "ipython3",
   "version": "3.11.10"
  }
 },
 "nbformat": 4,
 "nbformat_minor": 5
}

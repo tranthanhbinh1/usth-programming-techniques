{
 "cells": [
  {
   "cell_type": "code",
   "execution_count": 1,
   "id": "f0450c5c",
   "metadata": {},
   "outputs": [
    {
     "name": "stdout",
     "output_type": "stream",
     "text": [
      "{1: 2, 2: 2, 3: 1, 5: 1, 6: 2}\n"
     ]
    }
   ],
   "source": [
    "# Exercise 1 (In the lecture slides)\n",
    "# Count the number of occurrences of each element in a list\n",
    "\n",
    "def count_occurrences(l: list):\n",
    "    cnt_table = {}\n",
    "    for i in l:\n",
    "        cnt_table.setdefault(i, 0)\n",
    "        cnt_table[i] += 1\n",
    "    print(cnt_table)        \n",
    "l = [1,1,2,2,3,5,6,6]\n",
    "count_occurrences(l)\n",
    "    "
   ]
  },
  {
   "cell_type": "code",
   "execution_count": 2,
   "id": "c9bbeecb",
   "metadata": {},
   "outputs": [
    {
     "name": "stdout",
     "output_type": "stream",
     "text": [
      "[[1, 2, 3], [4, 5, 6]]\n"
     ]
    }
   ],
   "source": [
    "# Exercise 2 (In the lecture slides)\n",
    "# Conversion of a vector into a matrix\n",
    "\n",
    "\n",
    "def vector_converter(v: list[int]):\n",
    "    \"\"\"Convert a vector of dimension 6 into a matrix of 3 rows and 2 columns.\n",
    "    The first 3 elements of the vector constitue the first column of the matrix.\n",
    "    \"\"\"\n",
    "    assert len(v) == 6\n",
    "    # Length must be 8\n",
    "    matrix = [v[:3], v[3:]]\n",
    "    print(matrix)\n",
    "\n",
    "v = [1,2,3,4,5,6]\n",
    "vector_converter(v)"
   ]
  },
  {
   "cell_type": "markdown",
   "id": "96d3a562",
   "metadata": {},
   "source": [
    "### Exercises fo the lecture 2 - Data Structures in Python"
   ]
  },
  {
   "cell_type": "code",
   "execution_count": 4,
   "id": "029e39a0",
   "metadata": {},
   "outputs": [
    {
     "name": "stdout",
     "output_type": "stream",
     "text": [
      "[3, 3, 1, 10, 9]\n",
      "10\n",
      "9\n",
      "9\n",
      "9\n",
      "9\n",
      "9\n",
      "9\n",
      "9\n",
      "9\n",
      "9\n",
      "9\n",
      "9\n",
      "9\n"
     ]
    }
   ],
   "source": [
    "# Exercise 1: To Begin\n",
    "import random\n",
    "\n",
    "def to_begin():\n",
    "    # Create random list L\n",
    "    L = [random.randint(1, 10) for i in range(0, 5)]\n",
    "    print(L)\n",
    "\n",
    "    # 1.Display the value of L[4] - the fourth interger in list L of 5 intergers\n",
    "    print(L[3])\n",
    "\n",
    "    # 2. modifies the list by replacing L[1] by the number 17 and L[3] by the sum of the neighbouring elements L[2] andL[4]\n",
    "    L[3] = 17\n",
    "    L[2] = L[3] + L[1]\n",
    "\n",
    "    # 3. displays 12 times the value of the last term in the list.\n",
    "    for i in range(1, 13):\n",
    "        print(L[-1])\n",
    "\n",
    "    \n",
    "\n",
    "to_begin()"
   ]
  },
  {
   "cell_type": "code",
   "execution_count": 7,
   "id": "9a5e8f30",
   "metadata": {},
   "outputs": [
    {
     "name": "stdout",
     "output_type": "stream",
     "text": [
      "[55, 90, 95, 74, 86]\n",
      "1\n",
      "250\n",
      "55\n",
      "95\n",
      "True\n",
      "55\n",
      "[55, 90, 95, 74, 86]\n",
      "[86, 74, 95, 90, 55]\n"
     ]
    }
   ],
   "source": [
    "# Exercise 2: Browse a list\n",
    "\n",
    "\n",
    "def browse_a_list():\n",
    "    # Create random list L\n",
    "    l = [random.randint(40, 100) for i in range(0, 5)]\n",
    "\n",
    "    # 1.Display the list in columns\n",
    "    print(l)\n",
    "\n",
    "    # 2.count the number of multiples of 3 present in the list\n",
    "    mul_of_3 = 0\n",
    "    for i in l:\n",
    "        if i % 3 == 0:\n",
    "            mul_of_3 += 1\n",
    "    print(mul_of_3)\n",
    "\n",
    "    # 3. calculate the sume of all the even values of the list\n",
    "    even_sum = 0\n",
    "    for i in l:\n",
    "        if i % 2 == 0:\n",
    "            even_sum += i\n",
    "    print(even_sum)\n",
    "\n",
    "    # 4: Calculate the maximum and minimum of the elements of the list\n",
    "    print(min(l))\n",
    "    print(max(l))\n",
    "\n",
    "    # 5. create a boolean true if the arithmetic mean of the values of the list is greater than or equal to 10;\n",
    "    # calculate the product of all the values of the list included in the interval [50, 70]\n",
    "    mean = sum(l) / len(l)\n",
    "    if mean >= 10:\n",
    "        print(True)\n",
    "    else:\n",
    "        print(False)\n",
    "\n",
    "    l_from_50_to_70 = []\n",
    "    for i in l:\n",
    "        if i > 50 and i < 70:\n",
    "            l_from_50_to_70.append(i)\n",
    "\n",
    "    product = 1\n",
    "    for i in l_from_50_to_70:\n",
    "        product = product*i\n",
    "    print(product)\n",
    "\n",
    "    # 6: display the list in reverse\n",
    "    print(l)\n",
    "    l.reverse()\n",
    "    print(l)\n",
    "\n",
    "browse_a_list()"
   ]
  },
  {
   "cell_type": "code",
   "execution_count": 13,
   "id": "bbfc445b",
   "metadata": {},
   "outputs": [
    {
     "name": "stdout",
     "output_type": "stream",
     "text": [
      "{'e': 3, 'o': 1, 'r': 3, 'n': 3, 'f': 1, 'w': 2, 'j': 2, 'g': 2, 'l': 1, 'k': 1}\n"
     ]
    }
   ],
   "source": [
    "# Exercise 3: Calculate a histogram\n",
    "\n",
    "# 1. create a data dictionary to store the number of occurrences of each character in a string\n",
    "def num_occurences(s: str):\n",
    "    s_list = list(s)\n",
    "    occur_cnt = {}\n",
    "\n",
    "    for i in s_list:\n",
    "        occur_cnt.setdefault(i, 0)\n",
    "        occur_cnt[i] += 1\n",
    "    return occur_cnt\n",
    "        \n",
    "# 2. write a program that calculates the number of occurrences of a given character c in a string s\n",
    "def num_occurences_of_a_char(s: str, c:str):\n",
    "    occur_cnt: dict = num_occurences(s)\n",
    "\n",
    "    print(occur_cnt.get(c))\n",
    "\n",
    "# 3. modify this program by storing the number of occurrences of each character in a string s in the \n",
    "# data dictionary created in the first question.\n",
    "string_s = 'eornfwjerngwergnj'\n",
    "data_dict_from_question_1 = num_occurences(string_s)\n",
    "# Modify the dict from question 1 to store new info about an another string \n",
    "string_s2 = 'wernflkerngkjwernfkjwenfkjwenf'\n",
    "string_s2_list = list(string_s2)\n",
    "for i in string_s2_list:\n",
    "    if data_dict_from_question_1.get(i) is None:\n",
    "        data_dict_from_question_1.setdefault(i, 0)\n",
    "        data_dict_from_question_1[i] += 1\n",
    "        \n",
    "print(data_dict_from_question_1)"
   ]
  },
  {
   "cell_type": "code",
   "execution_count": 14,
   "id": "de9f83ff",
   "metadata": {},
   "outputs": [
    {
     "name": "stdout",
     "output_type": "stream",
     "text": [
      "[3, 2, 1]\n"
     ]
    }
   ],
   "source": [
    "# Exercise 4: Exchange of values\n",
    "# Write a program that exchanegs the values of the first and the last cells of any non empty list\n",
    "\n",
    "def exchange_value(l: list):\n",
    "    # to make syure that the list is non empty\n",
    "    assert len(l) != 0\n",
    "    temp = l[0]\n",
    "    l[0] = l[-1]\n",
    "    l[-1] = temp\n",
    "\n",
    "    print(l)\n",
    "\n",
    "exchange_value([1,2,3])"
   ]
  },
  {
   "cell_type": "code",
   "execution_count": null,
   "id": "ed2fb9d2",
   "metadata": {},
   "outputs": [],
   "source": [
    "# Exercise 5: List Symmetry\n",
    "# Write a program that displays wheter a list is symmetric (list identical to the list in reverse).\n",
    "\n",
    "def is_symmetric(l: list):\n",
    "    return l == l[::-1]"
   ]
  },
  {
   "cell_type": "code",
   "execution_count": null,
   "id": "115ad839",
   "metadata": {},
   "outputs": [],
   "source": [
    " # EX6\n",
    "def is_palindrome(c: str):\n",
    "    l = list[c]\n",
    "    return is_symmetric(l)"
   ]
  },
  {
   "cell_type": "code",
   "execution_count": null,
   "id": "6c5ad017",
   "metadata": {},
   "outputs": [
    {
     "name": "stdout",
     "output_type": "stream",
     "text": [
      "{(0, 3)}\n",
      "{(0, 2)}\n"
     ]
    }
   ],
   "source": [
    "# EX7: List 2D\n",
    "tray = [\n",
    "  [True,  False, False, False],\n",
    "  [False, True,  True,  False]\n",
    "] # A 2 dimensional array that contains boolean\n",
    "\n",
    "# 1: Write a function neighborsCase that takes a tray and a square and returns the set of those \n",
    "# horizontal or vertical immediate neighbors that are on the tray and are free.\n",
    "def neighborsCase(tray, square):\n",
    "    i, j = square\n",
    "    neighbors = set()\n",
    "    rows, cols = len(tray), len(tray[0])\n",
    "\n",
    "    for x, y in [(i-1, j), (i+1, j), (i, j-1), (i, j+1)]:\n",
    "        if 0 <= x < rows and 0 <= y < cols:      # inside tray\n",
    "            if tray[x][y] is False:              # free cell\n",
    "                neighbors.add((x, y))\n",
    "    \n",
    "    return neighbors\n",
    "print(neighborsCase(tray, (1,3)))  # {(0,3)}\n",
    "print(neighborsCase(tray, (0,1)))  # {(0,2)} "
   ]
  },
  {
   "cell_type": "code",
   "execution_count": 17,
   "id": "0eea55c8",
   "metadata": {},
   "outputs": [
    {
     "name": "stdout",
     "output_type": "stream",
     "text": [
      "{(0, 2), (0, 3)}\n"
     ]
    }
   ],
   "source": [
    "# 2: \n",
    "def neighborsCases(tray, cases):\n",
    "    result = set()\n",
    "    for square in cases:\n",
    "        for n in neighborsCase(tray, square):\n",
    "            result.add(n)\n",
    "    return result\n",
    "\n",
    "tray = [\n",
    "  [True,  False, False, False],\n",
    "  [False, True,  True,  False]\n",
    "]\n",
    "\n",
    "print(neighborsCases(tray, {(1, 3), (0, 1)}))"
   ]
  },
  {
   "cell_type": "code",
   "execution_count": 18,
   "id": "0115f3e9",
   "metadata": {},
   "outputs": [
    {
     "name": "stdout",
     "output_type": "stream",
     "text": [
      "{(0, 1), (0, 2), (0, 3), (1, 3)}\n"
     ]
    }
   ],
   "source": [
    "# 3: reachable\n",
    "def reachable(tray, start):\n",
    "    reached = {start}\n",
    "    frontier = {start}\n",
    "\n",
    "    while frontier:\n",
    "        new_frontier = neighborsCases(tray, frontier) - reached\n",
    "        reached |= new_frontier\n",
    "        frontier = new_frontier\n",
    "\n",
    "    return reached\n",
    "tray = [\n",
    "  [True,  False, False, False],\n",
    "  [False, True,  True,  False]\n",
    "]\n",
    "\n",
    "print(reachable(tray, (0, 1)))\n"
   ]
  },
  {
   "cell_type": "code",
   "execution_count": 19,
   "id": "e3edc31c",
   "metadata": {},
   "outputs": [
    {
     "name": "stdout",
     "output_type": "stream",
     "text": [
      "True\n",
      "False\n"
     ]
    }
   ],
   "source": [
    "# Path\n",
    "def path(tray, deb, end):\n",
    "    return end in reachable(tray, deb)\n",
    "tray = [\n",
    "  [True,  False, False, False],\n",
    "  [False, True,  True,  False]\n",
    "]\n",
    "\n",
    "print(path(tray, (1, 3), (0, 1)))  # True\n",
    "print(path(tray, (1, 3), (1, 0)))  # False\n"
   ]
  }
 ],
 "metadata": {
  "kernelspec": {
   "display_name": "usth-programming-techniques",
   "language": "python",
   "name": "python3"
  },
  "language_info": {
   "codemirror_mode": {
    "name": "ipython",
    "version": 3
   },
   "file_extension": ".py",
   "mimetype": "text/x-python",
   "name": "python",
   "nbconvert_exporter": "python",
   "pygments_lexer": "ipython3",
   "version": "3.11.10"
  }
 },
 "nbformat": 4,
 "nbformat_minor": 5
}
